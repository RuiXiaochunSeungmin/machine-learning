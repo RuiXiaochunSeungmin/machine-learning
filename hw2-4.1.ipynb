{
 "cells": [
  {
   "cell_type": "code",
   "execution_count": 64,
   "metadata": {
    "collapsed": false
   },
   "outputs": [],
   "source": [
    "from scipy import io\n",
    "from scipy.stats import mode\n",
    "from heapq import nsmallest\n",
    "import numpy as np\n",
    "from matplotlib import pyplot as plt\n",
    "%matplotlib inline\n",
    "\n",
    "Matrix = io.loadmat('C:\\Users\\lhren\\Desktop\\Fall 2017/4771\\hw\\hw1data.mat')\n",
    "X_Y = np.concatenate((Matrix['X'],Matrix['Y']),axis=1)\n",
    "np.random.shuffle(X_Y)\n",
    "X_Y = np.array(X_Y)\n",
    "N = len(X_Y)\n",
    "d = 784\n",
    "X_train = X_Y[0:9000,0:d]\n",
    "Y_train = X_Y[0:9000,d]\n",
    "X_test = X_Y[9000:N,0:d]\n",
    "Y_test = X_Y[9000:N,d]\n",
    "\n",
    "n = len(X_train)"
   ]
  },
  {
   "cell_type": "code",
   "execution_count": 26,
   "metadata": {
    "collapsed": false
   },
   "outputs": [],
   "source": [
    "def V0(T,X_train,Y_train):\n",
    "    n = len(Y_train)\n",
    "    W = np.zeros((10,d))\n",
    "    B = np.zeros(10)\n",
    "    #ten binary classifiers\n",
    "    for k in range(10):\n",
    "        w = np.zeros(d)\n",
    "        b = 0\n",
    "        \n",
    "        x_train = X_train\n",
    "        y_train = 2*(Y_train==k) - np.ones(n)\n",
    "    \n",
    "        t = 1\n",
    "        while t<=T:\n",
    "            index = t%(n)\n",
    "            y_i = y_train[index]\n",
    "            x_i = x_train[index,:]\n",
    "            if y_i*(sum(w*x_i)+b)<=0:\n",
    "                w = w+y_i*x_i\n",
    "                b = b+y_i\n",
    "            t = t+1\n",
    "        W[k,:] = w\n",
    "        B[k] = b\n",
    "    return W,B"
   ]
  },
  {
   "cell_type": "code",
   "execution_count": 27,
   "metadata": {
    "collapsed": false
   },
   "outputs": [
    {
     "name": "stdout",
     "output_type": "stream",
     "text": [
      "500\n",
      "1000\n",
      "1500\n",
      "2000\n",
      "3000\n",
      "4000\n",
      "5000\n",
      "6000\n",
      "7000\n",
      "8000\n",
      "9000\n",
      "10000\n"
     ]
    },
    {
     "data": {
      "text/plain": [
       "[<matplotlib.lines.Line2D at 0xb43e6d8>]"
      ]
     },
     "execution_count": 27,
     "metadata": {},
     "output_type": "execute_result"
    },
    {
     "data": {
      "image/png": "[encoded data removed]",
      "text/plain": [
       "<matplotlib.figure.Figure at 0xb120d68>"
      ]
     },
     "metadata": {},
     "output_type": "display_data"
    }
   ],
   "source": [
    "\"\"\"\n",
    "#perceptron on digit k\n",
    "k = 0\n",
    "M = np.zeros((n,d+1))\n",
    "for i in range(n):\n",
    "    M[i,0:d] = X_train[i,:]\n",
    "    #reform classification problem as binary\n",
    "    if int(Y_train[i])==k:\n",
    "        M[i,d] = 1\n",
    "    else:\n",
    "        M[i,d] = -1\n",
    "x_train = M[:,0:d]\n",
    "y_train = M[:,d]\n",
    "\"\"\"\n",
    "T_list = [500,1000,1500,2000,3000,4000,5000,6000,7000,8000,9000,10000]\n",
    "#trainE_list = []\n",
    "testE_list = []\n",
    "for T in T_list:\n",
    "    #V0\n",
    "    print T\n",
    "    #train_error = V0(T,X_train,Y_train,X_train,Y_train)\n",
    "    #trainE_list.append(train_error)\n",
    "    W,B = V0(T,X_train,Y_train)\n",
    "    wrong = 0\n",
    "    for j in range(len(X_test)):\n",
    "        y_j = Y_test[j]\n",
    "        x_j = X_test[j,:]\n",
    "        prob = np.zeros(10)\n",
    "        for i in range(10):\n",
    "            prob[i] = sum(W[i,:]*x_j)+B[i]\n",
    "        index = np.argmax(prob)\n",
    "        if y_j!=index:\n",
    "            wrong+=1\n",
    "    test_error = wrong*1.0/len(X_test)\n",
    "    testE_list.append(test_error)\n",
    "#plt.plot(np.array(T_list),np.array(trainE_list),color='b')\n",
    "plt.plot(np.array(T_list),np.array(testE_list),color='r')\n"
   ]
  },
  {
   "cell_type": "code",
   "execution_count": 57,
   "metadata": {
    "collapsed": false
   },
   "outputs": [],
   "source": [
    "def V1(T,X_train,Y_train):\n",
    "    n = len(Y_train)\n",
    "    W = np.zeros((10,d))\n",
    "    B = np.zeros(10)\n",
    "    #ten binary classifiers\n",
    "    for k in range(10):\n",
    "        print k\n",
    "        w = np.zeros(d)\n",
    "        b = 0\n",
    "       \n",
    "        x_train = X_train\n",
    "        y_train = 2*(Y_train==k)-np.ones(n)\n",
    "    \n",
    "        t = 1\n",
    "        while t<=T:\n",
    "            #print t\n",
    "            a = (np.dot(x_train,w)+b*np.ones(n))*y_train\n",
    "            index = np.argmin(a)\n",
    "            y_i = y_train[index]\n",
    "            x_i = x_train[index,:]\n",
    "            if y_i*(sum(w*x_i)+b)<=0:\n",
    "                w = w+y_i*x_i\n",
    "                b = b+y_i\n",
    "            t = t+1\n",
    "        W[k,:] = w\n",
    "        B[k] = b\n",
    "    return W,B\n",
    "   \n",
    "\n",
    "    \n"
   ]
  },
  {
   "cell_type": "code",
   "execution_count": 58,
   "metadata": {
    "collapsed": false
   },
   "outputs": [
    {
     "name": "stdout",
     "output_type": "stream",
     "text": [
      "500\n",
      "0\n",
      "1\n",
      "2\n",
      "3\n",
      "4\n",
      "5\n",
      "6\n",
      "7\n",
      "8\n",
      "9\n",
      "1000\n",
      "0\n",
      "1\n",
      "2\n",
      "3\n",
      "4\n",
      "5\n",
      "6\n",
      "7\n",
      "8\n",
      "9\n",
      "1500\n",
      "0\n",
      "1\n",
      "2\n",
      "3\n",
      "4\n",
      "5\n",
      "6\n",
      "7\n",
      "8\n",
      "9\n"
     ]
    },
    {
     "data": {
      "text/plain": [
       "[<matplotlib.lines.Line2D at 0xd7bb208>]"
      ]
     },
     "execution_count": 58,
     "metadata": {},
     "output_type": "execute_result"
    },
    {
     "data": {
      "image/png": "[encoded data removed]",
      "text/plain": [
       "<matplotlib.figure.Figure at 0x1491fac8>"
      ]
     },
     "metadata": {},
     "output_type": "display_data"
    }
   ],
   "source": [
    "T_list = [300,400,500]#,2500,3000]\n",
    "#trainE_list = []\n",
    "testE_list = []\n",
    "for T in T_list:\n",
    "    #V1\n",
    "    print T\n",
    "    #train_error = V1(T,X_train,Y_train,X_train,Y_train)\n",
    "    #trainE_list.append(train_error)\n",
    "    W,B = V1(T,X_train,Y_train)\n",
    "    wrong = 0\n",
    "    for j in range(len(X_test)):\n",
    "        y_j = Y_test[j]\n",
    "        x_j = X_test[j,:]\n",
    "        prob = np.zeros(10)\n",
    "        for i in range(10):\n",
    "            prob[i] = sum(W[i,:]*x_j)+B[i]\n",
    "        index = np.argmax(prob)\n",
    "        if y_j!=index:\n",
    "            wrong+=1\n",
    "    test_error = wrong*1.0/len(X_test)\n",
    "    testE_list.append(test_error)\n",
    "#plt.plot(np.array(T_list),np.array(trainE_list),color='b')\n",
    "plt.plot(np.array(T_list),np.array(testE_list),color='r')"
   ]
  },
  {
   "cell_type": "code",
   "execution_count": 55,
   "metadata": {
    "collapsed": false
   },
   "outputs": [],
   "source": [
    "def V2(T,x_train,y_train):\n",
    "    W = []\n",
    "    B = []\n",
    "    C = []\n",
    "    #V2\n",
    "    \n",
    "    n = len(Y_train)\n",
    "    #ten binary classifiers\n",
    "    for k in range(10):\n",
    "        print k\n",
    "        w = []\n",
    "        b = []\n",
    "        c = []\n",
    "        x_train = X_train\n",
    "        y_train = 2*(Y_train==k)-np.ones(n)\n",
    "    \n",
    "        t = 1\n",
    "        w_t = np.zeros(784)\n",
    "        b_t=0\n",
    "        c_t = 1\n",
    "        while t<=T:\n",
    "            index = t%(n)\n",
    "            y_i = y_train[index]\n",
    "            x_i = x_train[index,:]\n",
    "            if y_i*sum(w_t*x_i+b_t)<=0:\n",
    "                w.append(list(w_t))\n",
    "                b.append(b_t)\n",
    "                c.append(c_t)\n",
    "                w_t += y_i*x_i\n",
    "                b_t += y_i\n",
    "                c_t = 1\n",
    "            else: \n",
    "                c_t += 1\n",
    "            t = t+1\n",
    "        W.append(w)\n",
    "        B.append(b)\n",
    "        C.append(c)\n",
    "    return W,B,C"
   ]
  },
  {
   "cell_type": "code",
   "execution_count": 56,
   "metadata": {
    "collapsed": false
   },
   "outputs": [
    {
     "name": "stdout",
     "output_type": "stream",
     "text": [
      "1000\n",
      "0\n",
      "1\n",
      "2\n",
      "3\n",
      "4\n",
      "5\n",
      "6\n",
      "7\n",
      "8\n",
      "9\n",
      "2000\n",
      "0\n",
      "1\n",
      "2\n",
      "3\n",
      "4\n",
      "5\n",
      "6\n",
      "7\n",
      "8\n",
      "9\n",
      "3000\n",
      "0\n",
      "1\n",
      "2\n",
      "3\n",
      "4\n",
      "5\n",
      "6\n",
      "7\n",
      "8\n",
      "9\n"
     ]
    },
    {
     "data": {
      "text/plain": [
       "[<matplotlib.lines.Line2D at 0x14915048>]"
      ]
     },
     "execution_count": 56,
     "metadata": {},
     "output_type": "execute_result"
    },
    {
     "data": {
      "image/png": "[encoded data removed]",
      "text/plain": [
       "<matplotlib.figure.Figure at 0x8674438>"
      ]
     },
     "metadata": {},
     "output_type": "display_data"
    }
   ],
   "source": [
    "T_list = [1000,2000,3000]\n",
    "#trainE_list = []\n",
    "testE_list = []\n",
    "for T in T_list:\n",
    "    #V1\n",
    "    print T\n",
    "    #train_error = V1(T,X_train,Y_train,X_train,Y_train)\n",
    "    #trainE_list.append(train_error)\n",
    "    W,B,C = V2(T,X_train,Y_train)\n",
    "    wrong = 0\n",
    "    for j in range(len(X_test)):\n",
    "        y_j = Y_test[j]\n",
    "        x_j = X_test[j,:]\n",
    "        prob = np.zeros(10)\n",
    "        for i in range(10):\n",
    "            w = W[i]\n",
    "            b = B[i]\n",
    "            c = C[i]\n",
    "            prob[i] = sum(c*(np.dot(w,x_j)+b))\n",
    "        index = np.argmax(prob)\n",
    "        if y_j!=index:\n",
    "            wrong+=1\n",
    "    test_error = wrong*1.0/len(X_test)\n",
    "    testE_list.append(test_error)\n",
    "#plt.plot(np.array(T_list),np.array(trainE_list),color='b')\n",
    "plt.plot(np.array(T_list),np.array(testE_list),color='r')"
   ]
  },
  {
   "cell_type": "code",
   "execution_count": 65,
   "metadata": {
    "collapsed": true
   },
   "outputs": [],
   "source": [
    "def kernel_V0(T,X_train,Y_train):\n",
    "    n = len(Y_train)\n",
    "    Alpha = np.zeros((10,n))\n",
    "    Y = []\n",
    "    #ten binary classifiers\n",
    "    for k in range(10):\n",
    "        print k\n",
    "        alpha = np.zeros(n)\n",
    "        y_train = 2*(Y_train==k) - np.ones(n)\n",
    "        Y.append(y_train)\n",
    "        x_train = X_train\n",
    "    \n",
    "        t = 1\n",
    "        while t<=T:\n",
    "            #print t\n",
    "            index = t%(n)\n",
    "            x_i = x_train[index,:]\n",
    "            y_i = y_train[index]\n",
    "            ker_dot =(np.dot(x_train,x_i)+2*np.ones(n))**10\n",
    "            if y_i*sum(alpha*(y_train*ker_dot))<=0:\n",
    "                alpha[index]+=1\n",
    "            t = t+1\n",
    "        Alpha[k,:] = alpha\n",
    "    return Alpha,Y"
   ]
  },
  {
   "cell_type": "code",
   "execution_count": null,
   "metadata": {
    "collapsed": false
   },
   "outputs": [
    {
     "name": "stdout",
     "output_type": "stream",
     "text": [
      "1000\n",
      "0\n",
      "1\n",
      "2\n",
      "3\n"
     ]
    }
   ],
   "source": [
    "T_list = [500]#,3000,4000,5000,6000,7000,8000,9000,10000]\n",
    "#trainE_list = []\n",
    "testE_list = []\n",
    "n = len(Y_train)\n",
    "for T in T_list:\n",
    "    #V0\n",
    "    print T\n",
    "    #train_error = V0(T,X_train,Y_train,X_train,Y_train)\n",
    "    #trainE_list.append(train_error)\n",
    "    Alpha,Y = kernel_V0(T,X_train,Y_train)\n",
    "    wrong = 0\n",
    "    for j in range(len(X_test)):\n",
    "        print j\n",
    "        y_j = Y_test[j]\n",
    "        x_j = X_test[j,:]\n",
    "        prob = np.zeros(10)\n",
    "        for k in range(10):\n",
    "            y_train = Y[k]\n",
    "            ker_dot =(np.dot(X_train,x_j)+2*np.ones(n))**10\n",
    "            prob[k] = sum(Alpha[k,:]*(y_train*ker_dot))\n",
    "        index = np.argmax(prob)\n",
    "        if y_j!=index:\n",
    "            wrong+=1\n",
    "    test_error = wrong*1.0/len(X_test)\n",
    "    testE_list.append(test_error)\n",
    "    print wrong\n",
    "#plt.plot(np.array(T_list),np.array(trainE_list),color='b')\n",
    "#plt.plot(np.array(T_list),np.array(testE_list),color='ro')"
   ]
  },
  {
   "cell_type": "code",
   "execution_count": 67,
   "metadata": {
    "collapsed": false
   },
   "outputs": [
    {
     "data": {
      "text/plain": [
       "888"
      ]
     },
     "execution_count": 67,
     "metadata": {},
     "output_type": "execute_result"
    }
   ],
   "source": [
    "wrong"
   ]
  },
  {
   "cell_type": "code",
   "execution_count": null,
   "metadata": {
    "collapsed": true
   },
   "outputs": [],
   "source": []
  }
 ],
 "metadata": {
  "anaconda-cloud": {},
  "kernelspec": {
   "display_name": "Python 2",
   "language": "python",
   "name": "python2"
  },
  "language_info": {
   "codemirror_mode": {
    "name": "ipython",
    "version": 2
   },
   "file_extension": ".py",
   "mimetype": "text/x-python",
   "name": "python",
   "nbconvert_exporter": "python",
   "pygments_lexer": "ipython2",
   "version": "2.7.11"
  }
 },
 "nbformat": 4,
 "nbformat_minor": 0
}
