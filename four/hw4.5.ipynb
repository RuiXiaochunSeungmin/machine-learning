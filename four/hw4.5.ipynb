{
 "cells": [
  {
   "cell_type": "code",
   "execution_count": 101,
   "metadata": {
    "collapsed": false
   },
   "outputs": [],
   "source": [
    "import scipy.io\n",
    "MSdata = scipy.io.loadmat('C:/Users/lhren/Desktop/Fall 2017/4771/data/MSdata.mat')"
   ]
  },
  {
   "cell_type": "code",
   "execution_count": 128,
   "metadata": {
    "collapsed": false
   },
   "outputs": [],
   "source": [
    "from sklearn import linear_model\n",
    "from sklearn.metrics import r2_score\n",
    "import statsmodels.api as sm\n",
    "import numpy as np\n",
    "from scipy import stats\n",
    "from sklearn.preprocessing import PolynomialFeatures\n",
    "from sklearn.decomposition import PCA\n",
    "import random\n",
    "import sys"
   ]
  },
  {
   "cell_type": "code",
   "execution_count": 178,
   "metadata": {
    "collapsed": false
   },
   "outputs": [],
   "source": [
    "trainX = MSdata['trainx']\n",
    "testX = MSdata['testx']\n",
    "trainY = MSdata['trainy'][:,0].astype(float)"
   ]
  },
  {
   "cell_type": "code",
   "execution_count": 179,
   "metadata": {
    "collapsed": false
   },
   "outputs": [],
   "source": [
    "#feature space transformation\n",
    "train_xe = trainX[:,0:12]\n",
    "train_xv = trainX[:,12:]\n",
    "poly = PolynomialFeatures(degree=2)\n",
    "eX = poly.fit_transform(train_xe)[:,1:]\n",
    "#Train = list(trainX.T)\n",
    "Train = list(eX.T)\n",
    "\n",
    "for j in range(4):\n",
    "    p = j+1\n",
    "    \n",
    "    Train += list((train_xv**p).T)\n",
    "    \n",
    "\n",
    "Train.append(list(trainY))\n",
    "Train = np.array(Train).T\n",
    "#random.shuffle(Train)"
   ]
  },
  {
   "cell_type": "code",
   "execution_count": 180,
   "metadata": {
    "collapsed": false
   },
   "outputs": [],
   "source": [
    "#poly = PolynomialFeatures(degree=5)\n",
    "#pca = PCA(n_components=12)\n",
    "#X = pca.fit_transform(trainX[:,0:12])\n",
    "#newX = poly.fit_transform(X)[:,1:]\n",
    "#random.shuffle(train)\n",
    "\n",
    "#first pass regression\n",
    "d = len(Train[0])-1\n",
    "X = Train[:,0:d]\n",
    "Y = Train[:,d]\n",
    "regr = linear_model.LinearRegression(normalize=True)\n",
    "regr.fit(X,Y)\n",
    "pred_trainY = regr.predict(X)"
   ]
  },
  {
   "cell_type": "code",
   "execution_count": 181,
   "metadata": {
    "collapsed": false
   },
   "outputs": [
    {
     "data": {
      "text/plain": [
       "0.29155755347006318"
      ]
     },
     "execution_count": 181,
     "metadata": {},
     "output_type": "execute_result"
    }
   ],
   "source": [
    "r2_score(trainY,pred_trainY)"
   ]
  },
  {
   "cell_type": "code",
   "execution_count": 182,
   "metadata": {
    "collapsed": false
   },
   "outputs": [
    {
     "data": {
      "text/plain": [
       "6.5264254255626684"
      ]
     },
     "execution_count": 182,
     "metadata": {},
     "output_type": "execute_result"
    }
   ],
   "source": [
    "sum(abs(trainY-pred_trainY))*1.0/len(trainY)"
   ]
  },
  {
   "cell_type": "code",
   "execution_count": 183,
   "metadata": {
    "collapsed": false
   },
   "outputs": [],
   "source": [
    "#delete large outliers\n",
    "Train_two = []\n",
    "for i in range(len(trainY)):\n",
    "    if abs(trainY[i]-pred_trainY[i])<30:\n",
    "        Train_two.append(Train[i])\n"
   ]
  },
  {
   "cell_type": "code",
   "execution_count": 184,
   "metadata": {
    "collapsed": false
   },
   "outputs": [
    {
     "data": {
      "text/plain": [
       "LinearRegression(copy_X=True, fit_intercept=True, n_jobs=1, normalize=True)"
      ]
     },
     "execution_count": 184,
     "metadata": {},
     "output_type": "execute_result"
    }
   ],
   "source": [
    "#second pass regression\n",
    "Train_two = np.array(Train_two)\n",
    "d = len(Train_two[0])-1\n",
    "X2 = Train_two[:,:d]\n",
    "Y2 = Train_two[:,d]\n",
    "regr_2 = linear_model.LinearRegression(normalize=True)\n",
    "regr_2.fit(X2,Y2)"
   ]
  },
  {
   "cell_type": "code",
   "execution_count": 186,
   "metadata": {
    "collapsed": false
   },
   "outputs": [
    {
     "data": {
      "text/plain": [
       "0.28189623371774397"
      ]
     },
     "execution_count": 186,
     "metadata": {},
     "output_type": "execute_result"
    }
   ],
   "source": [
    "pred_trainY2 = regr_2.predict(X)\n",
    "r2_score(trainY,pred_trainY2)"
   ]
  },
  {
   "cell_type": "code",
   "execution_count": 187,
   "metadata": {
    "collapsed": false
   },
   "outputs": [
    {
     "data": {
      "text/plain": [
       "6.4041259625051783"
      ]
     },
     "execution_count": 187,
     "metadata": {},
     "output_type": "execute_result"
    }
   ],
   "source": [
    "sum(abs(trainY-pred_trainY2))*1.0/len(trainY)"
   ]
  },
  {
   "cell_type": "code",
   "execution_count": 188,
   "metadata": {
    "collapsed": true
   },
   "outputs": [],
   "source": [
    "#write test prediction results\n",
    "test_xe = testX[:,0:12]\n",
    "test_xv = testX[:,12:]\n",
    "poly = PolynomialFeatures(degree=2)\n",
    "eX = poly.fit_transform(test_xe)[:,1:]\n",
    "#Train = list(trainX.T)\n",
    "Test = list(eX.T)\n",
    "for j in range(4):\n",
    "    p = j+1\n",
    "    Test += list((test_xv**p).T)\n",
    "\n",
    "Test = np.array(Test).T\n",
    "pred_testY = regr_2.predict(Test)\n"
   ]
  },
  {
   "cell_type": "code",
   "execution_count": 189,
   "metadata": {
    "collapsed": false
   },
   "outputs": [],
   "source": [
    "f = open('output.csv','w')"
   ]
  },
  {
   "cell_type": "code",
   "execution_count": 190,
   "metadata": {
    "collapsed": true
   },
   "outputs": [],
   "source": [
    "i=1\n",
    "f.write('dataid,prediction\\n')\n",
    "for y in pred_testY:\n",
    "    f.write(str(i)+','+str(y)+'\\n')\n",
    "    i+=1\n",
    "f.close()"
   ]
  },
  {
   "cell_type": "code",
   "execution_count": 37,
   "metadata": {
    "collapsed": false
   },
   "outputs": [
    {
     "name": "stdout",
     "output_type": "stream",
     "text": [
      "[  2.04000000e+02   2.39000000e+02   2.95000000e+02   2.82700000e+03\n",
      "   1.05730000e+04   2.23490000e+04   3.76130000e+04   1.12133000e+05\n",
      "   2.69118000e+05   8.36400000e+03]\n"
     ]
    }
   ],
   "source": [
    "#other stuff\n",
    "count = np.zeros(10)\n",
    "for y in trainY:\n",
    "    era = int(y/10-192)\n",
    "    count[era]+=1\n",
    "print count\n",
    "    \n",
    "    "
   ]
  },
  {
   "cell_type": "code",
   "execution_count": null,
   "metadata": {
    "collapsed": true
   },
   "outputs": [],
   "source": [
    "x = trainX[0][12:]\n",
    "print x\n",
    "cov = np.zeros((12,12))\n",
    "i=12\n",
    "while i>0:\n",
    "    cov[12-i,(12-i):] = x[:i]\n",
    "    cov[(12-i):,12-i] = x[:i]\n",
    "    x = x[i:]\n",
    "    i = i-1\n",
    "#print cov\n",
    "for i in range(12):\n",
    "    for j in range(12):\n",
    "        cov[i][j] = cov[i][j]/(np.sqrt(cov[i][i])*np.sqrt(cov[j][j]))\n",
    "#print cov\n",
    "\n",
    "    "
   ]
  }
 ],
 "metadata": {
  "anaconda-cloud": {},
  "kernelspec": {
   "display_name": "Python [default]",
   "language": "python",
   "name": "python2"
  },
  "language_info": {
   "codemirror_mode": {
    "name": "ipython",
    "version": 2
   },
   "file_extension": ".py",
   "mimetype": "text/x-python",
   "name": "python",
   "nbconvert_exporter": "python",
   "pygments_lexer": "ipython2",
   "version": "2.7.12"
  }
 },
 "nbformat": 4,
 "nbformat_minor": 1
}
