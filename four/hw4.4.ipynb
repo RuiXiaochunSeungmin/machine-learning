{
 "cells": [
  {
   "cell_type": "code",
   "execution_count": 89,
   "metadata": {},
   "outputs": [],
   "source": [
    "from matplotlib import pyplot as plt\n",
    "import numpy as np"
   ]
  },
  {
   "cell_type": "code",
   "execution_count": 90,
   "metadata": {},
   "outputs": [],
   "source": [
    "D = [[0,206,429,1504,963,2976,3095,2979,1949],[206,0,233,1308,802,2815,2934,2786,1771],\n",
    "[429,233,0,1075,671,2684,2799,2631,1616],\n",
    "[1504,1308,1075,0,1329,3273,3053,2687,2037],\n",
    "[963,802,671,1329,0,2013,2142,2054,996],\n",
    "[2976,2815,2684,3273,2013,0,808,1131,1307],\n",
    "[3095,2934,2799,3053,2142,808,0,379,1235],\n",
    "[2979,2786,2631,2687,2054,1131,379,0,1059],\n",
    "[1949,1771,1616,2037,996,1307,1235,1059,0]]\n",
    "cities=['BOS','NYC','DC','MIA','CHI','SEA','SF','LA','DEN']\n"
   ]
  },
  {
   "cell_type": "code",
   "execution_count": 96,
   "metadata": {},
   "outputs": [],
   "source": [
    "def discrepancy(loc):\n",
    "    d = 0\n",
    "    for i in range(9):\n",
    "        for j in range(9):\n",
    "            d+=(np.sqrt((loc[i][0]-loc[j][0])**2+(loc[i][1]-loc[j][1])**2)-D[i][j])**2\n",
    "    return d\n",
    "def partial(loc):\n",
    "    p = []\n",
    "    for i in range(9):\n",
    "        p_i = np.array([0,0])\n",
    "        for j in range(9):\n",
    "            if i!=j:\n",
    "                p_i[0]+=(loc[i][0]-loc[j][0])*2.0*(np.sqrt((loc[i][0]-loc[j][0])**2+(loc[i][1]-loc[j][1])**2)-D[i][j])\n",
    "                /np.sqrt((loc[i][0]-loc[j][0])**2+(loc[i][1]-loc[j][1])**2)\n",
    "                p_i[1]+=(loc[i][1]-loc[j][1])*2.0*(np.sqrt((loc[i][0]-loc[j][0])**2+(loc[i][1]-loc[j][1])**2)-D[i][j])\n",
    "                /np.sqrt((loc[i][0]-loc[j][0])**2+(loc[i][1]-loc[j][1])**2)\n",
    "        p.append(p_i)\n",
    "    return np.array(p)\n",
    "def map_D(D):\n",
    "    Loc=np.array([[1800,200],[1800,0],[1600,0],[1500,-500],[1000,0],[-800,500],[-1000,0],[-500,-500],[0,0]])\n",
    "    eta = 0.000001\n",
    "    dd=1000\n",
    "    d = discrepancy(Loc)\n",
    "    p = np.array(partial(Loc))\n",
    "    p_x = p[:,0]\n",
    "    p_y = p[:,1]\n",
    "    while sum(p_x*p_x)+sum(p_y*p_y)>1e-3 or abs(dd)>1e-6:\n",
    "        d_old = d\n",
    "        Loc = Loc-eta*partial(Loc)\n",
    "        d = discrepancy(Loc)\n",
    "        dd = d_old-d\n",
    "        p = np.array(partial(Loc))\n",
    "        p_x = p[:,0]\n",
    "        p_y = p[:,1]\n",
    "    print(Loc, p, d, dd)\n",
    "    return Loc"
   ]
  },
  {
   "cell_type": "code",
   "execution_count": 97,
   "metadata": {},
   "outputs": [
    {
     "name": "stdout",
     "output_type": "stream",
     "text": [
      "[[ 1965.136646   401.216605]\n",
      " [ 1811.966788   240.500419]\n",
      " [ 1680.547776    41.895442]\n",
      " [ 1789.324613 -1064.672631]\n",
      " [ 1033.979081   100.909143]\n",
      " [ -967.71299    656.823577]\n",
      " [-1105.33172   -134.351609]\n",
      " [ -880.164537  -499.593762]\n",
      " [   72.252464   -42.757123]] [[0 0]\n",
      " [0 0]\n",
      " [0 0]\n",
      " [0 0]\n",
      " [0 0]\n",
      " [0 0]\n",
      " [0 0]\n",
      " [0 0]\n",
      " [0 0]] 62167.6045159 0.0\n"
     ]
    }
   ],
   "source": [
    "loc = map_D(D)"
   ]
  },
  {
   "cell_type": "code",
   "execution_count": 98,
   "metadata": {},
   "outputs": [
    {
     "data": {
      "text/plain": [
       "(-1500, 1000)"
      ]
     },
     "execution_count": 98,
     "metadata": {},
     "output_type": "execute_result"
    },
    {
     "data": {
      "image/png": "[encoded data removed]",
      "text/plain": [
       "<matplotlib.figure.Figure at 0x7f629926d7b8>"
      ]
     },
     "metadata": {},
     "output_type": "display_data"
    }
   ],
   "source": [
    "%matplotlib inline\n",
    "plt.figure(figsize=(16,10))\n",
    "for i in range(9):\n",
    "    plt.plot(loc[i][0],loc[i][1],'ro')\n",
    "    plt.annotate(cities[i], xy=(loc[i][0], loc[i][1]), xytext=(loc[i][0]-2, loc[i][1]+5))\n",
    "plt.xlim(-1500,2500) \n",
    "plt.ylim(-1500,1000)\n",
    "\n"
   ]
  },
  {
   "cell_type": "code",
   "execution_count": null,
   "metadata": {},
   "outputs": [],
   "source": []
  }
 ],
 "metadata": {
  "kernelspec": {
   "display_name": "Python 3",
   "language": "python",
   "name": "python3"
  },
  "language_info": {
   "codemirror_mode": {
    "name": "ipython",
    "version": 3
   },
   "file_extension": ".py",
   "mimetype": "text/x-python",
   "name": "python",
   "nbconvert_exporter": "python",
   "pygments_lexer": "ipython3",
   "version": "3.6.2"
  }
 },
 "nbformat": 4,
 "nbformat_minor": 2
}
