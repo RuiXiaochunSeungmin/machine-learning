{
 "cells": [
  {
   "cell_type": "code",
   "execution_count": 2,
   "metadata": {
    "collapsed": true
   },
   "outputs": [],
   "source": [
    "from scipy import io\n",
    "from scipy.stats import mode\n",
    "from heapq import nsmallest\n",
    "import numpy as np\n",
    "from matplotlib import pyplot as plt\n",
    "%matplotlib inline"
   ]
  },
  {
   "cell_type": "code",
   "execution_count": 3,
   "metadata": {
    "collapsed": true
   },
   "outputs": [],
   "source": [
    "def sigma(x):\n",
    "    return 1.0/(1+np.exp(-x))\n",
    "def sigma_prime(x):\n",
    "    return np.exp(-x)/(1+np.exp(-x))**2"
   ]
  },
  {
   "cell_type": "code",
   "execution_count": 4,
   "metadata": {
    "collapsed": false
   },
   "outputs": [],
   "source": [
    "def F_h(W2,W1,b2,b1,x_i):\n",
    "    #x_i is single input dimension-1 value, W1,b1 is dimension k column vector(dealt with as a row vector), \n",
    "    #W2 is dimension k row vector and b2 is a value\n",
    "    k = len(W2)\n",
    "    #first layer prediction-a k vector\n",
    "    z_1 = W1*x_i+b1\n",
    "    F_1 = sigma(z_1)\n",
    "    #second layer prediction-a real value\n",
    "    z_2 = sum(W2*F_1)+b2\n",
    "    F_2 = sigma(z_2)\n",
    "    return z_1,z_2,F_1,F_2\n"
   ]
  },
  {
   "cell_type": "code",
   "execution_count": 5,
   "metadata": {
    "collapsed": true
   },
   "outputs": [],
   "source": [
    "def partial_E(X_Y, W2, W1, b2, b1):\n",
    "    k = len(W2)\n",
    "    p_b2 = 0\n",
    "    p_W2 = np.zeros(k)\n",
    "    p_W1 = np.zeros(k)\n",
    "    p_b1 = np.zeros(k)\n",
    "    n = len(X_Y)\n",
    "    for i in range(n):\n",
    "        x_i = X_Y[i,0]\n",
    "        y_i = X_Y[i,1]\n",
    "        z_1,z_2,F_1,F_2 = F_h(W2,W1,b2,b1,x_i)\n",
    "        p_W2+=(F_2-y_i)*sigma_prime(z_2)*F_1/n\n",
    "        p_b2+=(F_2-y_i)*sigma_prime(z_2)/n\n",
    "        p_W1+=(F_2-y_i)*sigma_prime(z_2)*x_i*(W2*sigma_prime(z_1))/n\n",
    "        p_b1+=(F_2-y_i)*sigma_prime(z_2)*(W2*sigma_prime(z_1))/n\n",
    "    return p_W2,p_b2,p_W1,p_b1"
   ]
  },
  {
   "cell_type": "code",
   "execution_count": 6,
   "metadata": {
    "collapsed": false
   },
   "outputs": [],
   "source": [
    "Matrix = io.loadmat('C:\\Users\\lhren\\Desktop\\Fall 2017/4771\\hw\\hw2\\hw2data.mat')\n",
    "X_Y = np.concatenate((Matrix['X'],Matrix['Y']),axis=1)\n",
    "np.random.shuffle(X_Y)\n",
    "X_Y = np.array(X_Y)\n",
    "N = len(X_Y)"
   ]
  },
  {
   "cell_type": "code",
   "execution_count": 7,
   "metadata": {
    "collapsed": true
   },
   "outputs": [],
   "source": [
    "def Network_k(X_Y,k):\n",
    "    N = len(X_Y)\n",
    "    T = 5000\n",
    "    b1 = np.zeros(k)\n",
    "    W1 = np.zeros(k)\n",
    "    b2 = 0\n",
    "    W2 = np.zeros(k)\n",
    "    E_list = []\n",
    "    E = 1\n",
    "    #dE = 1\n",
    "    t = 0\n",
    "    eta = 1\n",
    "    while abs(E)>1e-3 and t<T:\n",
    "        #E_old = E\n",
    "        if t%20==0:\n",
    "            print t\n",
    "        E = 0\n",
    "        for j in range(N):\n",
    "            x_i = X_Y[j,0]\n",
    "            y_i = X_Y[j,1]\n",
    "            z_1,z_2,F_1,F_2 = F_h(W2,W1,b2,b1,x_i)\n",
    "            E+=(F_2-y_i)**2/(2.0*N)\n",
    "        E_list.append(E)\n",
    "        p_W2,p_b2,p_W1,p_b1 = partial_E(X_Y, W2, W1, b2, b1)\n",
    "        W2-=eta*p_W2\n",
    "        W1-=eta*p_W1\n",
    "        b2-=eta*p_b2\n",
    "        b1-=eta*p_b1\n",
    "        #dE = abs(E-E_old)\n",
    "        t+=1\n",
    "    return W2,W1,b2,b1,E_list\n",
    "        "
   ]
  },
  {
   "cell_type": "code",
   "execution_count": null,
   "metadata": {
    "collapsed": false
   },
   "outputs": [
    {
     "name": "stdout",
     "output_type": "stream",
     "text": [
      "0\n",
      "20\n",
      "40\n",
      "60\n",
      "80\n",
      "100\n",
      "120\n",
      "140\n",
      "160\n",
      "180\n",
      "200\n",
      "220\n",
      "240\n"
     ]
    }
   ],
   "source": [
    "W2,W1,b2,b1,E_list = Network_k(X_Y,20)"
   ]
  },
  {
   "cell_type": "code",
   "execution_count": 1,
   "metadata": {
    "collapsed": false
   },
   "outputs": [
    {
     "ename": "NameError",
     "evalue": "name 'E_list' is not defined",
     "output_type": "error",
     "traceback": [
      "\u001b[1;31m---------------------------------------------------------------------------\u001b[0m",
      "\u001b[1;31mNameError\u001b[0m                                 Traceback (most recent call last)",
      "\u001b[1;32m<ipython-input-1-32ec53366e8d>\u001b[0m in \u001b[0;36m<module>\u001b[1;34m()\u001b[0m\n\u001b[1;32m----> 1\u001b[1;33m \u001b[0mt\u001b[0m \u001b[1;33m=\u001b[0m \u001b[0mlen\u001b[0m\u001b[1;33m(\u001b[0m\u001b[0mE_list\u001b[0m\u001b[1;33m)\u001b[0m\u001b[1;33m\u001b[0m\u001b[0m\n\u001b[0m\u001b[0;32m      2\u001b[0m \u001b[0mplt\u001b[0m\u001b[1;33m.\u001b[0m\u001b[0mplot\u001b[0m\u001b[1;33m(\u001b[0m\u001b[0mrange\u001b[0m\u001b[1;33m(\u001b[0m\u001b[0mt\u001b[0m\u001b[1;33m)\u001b[0m\u001b[1;33m,\u001b[0m\u001b[0mnp\u001b[0m\u001b[1;33m.\u001b[0m\u001b[0marray\u001b[0m\u001b[1;33m(\u001b[0m\u001b[0mE_list\u001b[0m\u001b[1;33m)\u001b[0m\u001b[1;33m)\u001b[0m\u001b[1;33m\u001b[0m\u001b[0m\n\u001b[0;32m      3\u001b[0m \u001b[0mplt\u001b[0m\u001b[1;33m.\u001b[0m\u001b[0mxlabel\u001b[0m\u001b[1;33m(\u001b[0m\u001b[1;34m'Iterations'\u001b[0m\u001b[1;33m)\u001b[0m\u001b[1;33m\u001b[0m\u001b[0m\n\u001b[0;32m      4\u001b[0m \u001b[0mplt\u001b[0m\u001b[1;33m.\u001b[0m\u001b[0mylabel\u001b[0m\u001b[1;33m(\u001b[0m\u001b[1;34m'Error function E'\u001b[0m\u001b[1;33m)\u001b[0m\u001b[1;33m\u001b[0m\u001b[0m\n",
      "\u001b[1;31mNameError\u001b[0m: name 'E_list' is not defined"
     ]
    }
   ],
   "source": [
    "t = len(E_list)\n",
    "plt.plot(range(t),np.array(E_list))\n",
    "plt.xlabel('Iterations')\n",
    "plt.ylabel('Error function E')"
   ]
  },
  {
   "cell_type": "code",
   "execution_count": 142,
   "metadata": {
    "collapsed": false
   },
   "outputs": [
    {
     "data": {
      "text/plain": [
       "[0.0071564133059594543,\n",
       " 0.0073254661475778199,\n",
       " 0.0071559803036569964,\n",
       " 0.0073249819751179468,\n",
       " 0.0071555476303129476,\n",
       " 0.0073244982197629045,\n",
       " 0.0071551152855613776,\n",
       " 0.0073240148809995721,\n",
       " 0.0071546832690370498]"
      ]
     },
     "execution_count": 142,
     "metadata": {},
     "output_type": "execute_result"
    }
   ],
   "source": [
    "E_list[-10:-1]"
   ]
  },
  {
   "cell_type": "code",
   "execution_count": 138,
   "metadata": {
    "collapsed": false
   },
   "outputs": [
    {
     "data": {
      "image/png": "[encoded data removed]",
      "text/plain": [
       "<matplotlib.figure.Figure at 0xc94a898>"
      ]
     },
     "metadata": {},
     "output_type": "display_data"
    }
   ],
   "source": [
    "for i in range(N):\n",
    "    x_i = X_Y[i,0]\n",
    "    y_i = X_Y[i,1]\n",
    "    z_1,z_2,F_1,F_2 = F_h(W2,W1,b2,b1,x_i)\n",
    "    plt.plot(x_i,F_2,'ro')\n",
    "    plt.plot(x_i,y_i,'bo')\n"
   ]
  },
  {
   "cell_type": "code",
   "execution_count": null,
   "metadata": {
    "collapsed": true
   },
   "outputs": [],
   "source": []
  }
 ],
 "metadata": {
  "kernelspec": {
   "display_name": "Python 2",
   "language": "python",
   "name": "python2"
  },
  "language_info": {
   "codemirror_mode": {
    "name": "ipython",
    "version": 2
   },
   "file_extension": ".py",
   "mimetype": "text/x-python",
   "name": "python",
   "nbconvert_exporter": "python",
   "pygments_lexer": "ipython2",
   "version": "2.7.11"
  }
 },
 "nbformat": 4,
 "nbformat_minor": 0
}
