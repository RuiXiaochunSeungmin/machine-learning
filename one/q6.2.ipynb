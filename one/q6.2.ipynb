{
 "cells": [
  {
   "cell_type": "code",
   "execution_count": 1,
   "metadata": {
    "collapsed": true
   },
   "outputs": [],
   "source": [
    "from scipy import io\n",
    "from scipy.stats import mode\n",
    "from heapq import nsmallest\n",
    "import numpy as np\n",
    "from matplotlib import pyplot as plt"
   ]
  },
  {
   "cell_type": "code",
   "execution_count": 38,
   "metadata": {
    "collapsed": true
   },
   "outputs": [],
   "source": [
    "dct = io.loadmat('C:\\Users\\lhren\\Desktop\\Fall 2017/4771\\hw\\hw1data.mat')\n",
    "X = dct['X'].astype(int) # see piazza @35\n",
    "Y = dct['Y'].astype(int)\n",
    "N, K, D = 10000, 10, 784\n",
    "###Choose between 1e-6 and 1e-10\n",
    "STEP_SIZE = 1e-10\n",
    "MAX_ITER = 1000000"
   ]
  },
  {
   "cell_type": "code",
   "execution_count": 4,
   "metadata": {
    "collapsed": false
   },
   "outputs": [],
   "source": [
    "count = np.zeros(10)\n",
    "sum_element = np.zeros(10)\n",
    "sum_sq_element = np.zeros(10)\n",
    "for i in range(N):\n",
    "    label = Y[i]\n",
    "    data = X[i]\n",
    "    count[label]+=1\n",
    "    sum_element[label]+=sum(data)\n",
    "    for j in range(784):      \n",
    "        sum_sq_element[label]+=data[j]**2"
   ]
  },
  {
   "cell_type": "code",
   "execution_count": 36,
   "metadata": {
    "collapsed": true
   },
   "outputs": [],
   "source": [
    "def norm(v):\n",
    "    return sum(v*v)\n",
    "\n",
    "\n",
    "def eval_f(theta):\n",
    "    \"\"\" evaluates f at theta\"\"\"\n",
    "    result = 0\n",
    "    result+=sum(sum_sq_element) - 2*sum(sum_element*theta) + D*sum(count*theta**2)\n",
    "    result = result*0.5\n",
    "    return result\n",
    "\n",
    "def plot_run(f_vals, iterations, step_size):\n",
    "    plt.figure()\n",
    "    plt.plot(range(iterations),f_vals,'ro')\n",
    "    plt.title('step size ' + str(step_size)+' ,end in '+str(iterations)+' iterations')\n",
    "    plt.show()\n",
    "\n",
    "# (ii) function definitions\n",
    "def grad_of_f(theta):\n",
    "    \"\"\"returns gradient of f valued at theta\"\"\"\n",
    "    grad = 784*theta*count-sum_element\n",
    "    \n",
    "    return grad\n",
    "\n",
    "def optimize_theta(theta, step_size, max_iter):\n",
    "    \"\"\"iterative optimization algorithm from 4(ii)\n",
    "    \n",
    "    returns array of function value from iterations\n",
    "    \"\"\"\n",
    "    f_vals = [eval_f(theta)] # starting f value\n",
    "    i = 0\n",
    "    \n",
    "    while i <= max_iter:\n",
    "        i += 1\n",
    "        grad = grad_of_f(theta)\n",
    "        if (norm(grad) < 1e-8): # if optimal value reached\n",
    "            break\n",
    "        theta -= step_size * grad # else descend theta\n",
    "        f_vals.append(eval_f(theta))\n",
    "        \n",
    "    \n",
    "    return f_vals,i"
   ]
  },
  {
   "cell_type": "code",
   "execution_count": 39,
   "metadata": {
    "collapsed": false
   },
   "outputs": [
    {
     "data": {
      "image/png": "[encoded data removed]",
      "text/plain": [
       "<matplotlib.figure.Figure at 0xf419dd8>"
      ]
     },
     "metadata": {},
     "output_type": "display_data"
    }
   ],
   "source": [
    "theta = np.zeros(K)\n",
    "f_vals,i = optimize_theta(theta, STEP_SIZE, MAX_ITER)\n",
    "plot_run(f_vals, i, STEP_SIZE)"
   ]
  },
  {
   "cell_type": "code",
   "execution_count": 40,
   "metadata": {
    "collapsed": false
   },
   "outputs": [
    {
     "data": {
      "text/plain": [
       "array([ -3.55243683e-05,  -1.77621841e-05,  -3.55243683e-05,\n",
       "        -3.55243683e-05,  -1.77621841e-05,  -4.92781401e-05,\n",
       "        -3.55206430e-05,  -1.77621841e-05,  -3.55243683e-05,\n",
       "        -1.77621841e-05])"
      ]
     },
     "execution_count": 40,
     "metadata": {},
     "output_type": "execute_result"
    }
   ],
   "source": [
    "grad_of_f(theta)"
   ]
  },
  {
   "cell_type": "code",
   "execution_count": null,
   "metadata": {
    "collapsed": true
   },
   "outputs": [],
   "source": []
  }
 ],
 "metadata": {
  "anaconda-cloud": {},
  "kernelspec": {
   "display_name": "Python [default]",
   "language": "python",
   "name": "python2"
  },
  "language_info": {
   "codemirror_mode": {
    "name": "ipython",
    "version": 2
   },
   "file_extension": ".py",
   "mimetype": "text/x-python",
   "name": "python",
   "nbconvert_exporter": "python",
   "pygments_lexer": "ipython2",
   "version": "2.7.12"
  }
 },
 "nbformat": 4,
 "nbformat_minor": 1
}
