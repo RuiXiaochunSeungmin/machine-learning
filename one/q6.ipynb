{
 "cells": [
  {
   "cell_type": "code",
   "execution_count": 2,
   "metadata": {
    "collapsed": true
   },
   "outputs": [],
   "source": [
    "from scipy import io\n",
    "from scipy.stats import mode\n",
    "from heapq import nsmallest\n",
    "import numpy as np\n",
    "from matplotlib import pyplot as plt"
   ]
  },
  {
   "cell_type": "code",
   "execution_count": 4,
   "metadata": {},
   "outputs": [],
   "source": [
    "# global vars used throughout file\n",
    "dct = io.loadmat('./hw1data.mat')\n",
    "X = dct['X'].astype(int) # see piazza @35\n",
    "Y = dct['Y'].astype(int)\n",
    "N, K, D = 10000, 10, 784\n",
    "STEP_SIZE = 1e-6\n",
    "MAX_ITER = 10000"
   ]
  },
  {
   "cell_type": "code",
   "execution_count": 5,
   "metadata": {
    "collapsed": true
   },
   "outputs": [],
   "source": [
    "# norm, eval_f, and plot_run are same for (ii) and (iv)\n",
    "\n",
    "def norm(v):\n",
    "    return sum(np.dot(v,v))\n",
    "\n",
    "\n",
    "def eval_f(theta):\n",
    "    \"\"\" evaluates f at theta\"\"\"\n",
    "    result = 0\n",
    "    \n",
    "    for i in range(N):\n",
    "        label = Y[i]\n",
    "        vec = X[i] - theta[label] # vectorizing sum, numpy broadcasting\n",
    "        result += -0.5 * np.dot(vec, vec)\n",
    "        \n",
    "    return result\n",
    "\n",
    "def plot_run(f_vals, step_size):\n",
    "    plt.figure()\n",
    "    plt.plot(range(iterations),f_values,'ro')\n",
    "    plt.title('step size ' + str(step_size))\n",
    "    plt.show()"
   ]
  },
  {
   "cell_type": "code",
   "execution_count": 6,
   "metadata": {
    "collapsed": true
   },
   "outputs": [],
   "source": [
    "# (ii) function definitions\n",
    "def grad_of_f(theta):\n",
    "    \"\"\"returns gradient of f valued at theta\"\"\"\n",
    "    grad = np.zeros(10)\n",
    "    for i in range(N):\n",
    "        label = Y[i]\n",
    "        grad[label] += sum(X[i] - theta[label]) # numpy broadcasting\n",
    "    \n",
    "    return grad\n",
    "\n",
    "def optimize_theta(theta, step_size, max_iter):\n",
    "    \"\"\"iterative optimization algorithm from 4(ii)\n",
    "    \n",
    "    returns array of function value from iterations\n",
    "    \"\"\"\n",
    "    f_vals = [eval_f(theta)] # starting f value\n",
    "    i = 0\n",
    "    \n",
    "    while i < max_iter:\n",
    "        grad = grad_of_f(theta)\n",
    "        if (norm(grad) < 1e-8): # if optimal value reached\n",
    "            break\n",
    "        theta -= step_size * grad # else descend theta\n",
    "        f_vals.append(eval_f(theta))\n",
    "        i += 1\n",
    "    \n",
    "    return f_vals"
   ]
  },
  {
   "cell_type": "code",
   "execution_count": 7,
   "metadata": {},
   "outputs": [
    {
     "ename": "TypeError",
     "evalue": "'numpy.float64' object is not iterable",
     "output_type": "error",
     "traceback": [
      "\u001b[0;31m---------------------------------------------------------------------------\u001b[0m",
      "\u001b[0;31mTypeError\u001b[0m                                 Traceback (most recent call last)",
      "\u001b[0;32m<ipython-input-7-0cf190555296>\u001b[0m in \u001b[0;36m<module>\u001b[0;34m()\u001b[0m\n\u001b[1;32m      1\u001b[0m \u001b[0;31m# (ii) run\u001b[0m\u001b[0;34m\u001b[0m\u001b[0;34m\u001b[0m\u001b[0m\n\u001b[1;32m      2\u001b[0m \u001b[0mtheta\u001b[0m \u001b[0;34m=\u001b[0m \u001b[0mnp\u001b[0m\u001b[0;34m.\u001b[0m\u001b[0mzeros\u001b[0m\u001b[0;34m(\u001b[0m\u001b[0mK\u001b[0m\u001b[0;34m)\u001b[0m\u001b[0;34m\u001b[0m\u001b[0m\n\u001b[0;32m----> 3\u001b[0;31m \u001b[0mf_vals\u001b[0m \u001b[0;34m=\u001b[0m \u001b[0moptimize_theta\u001b[0m\u001b[0;34m(\u001b[0m\u001b[0mtheta\u001b[0m\u001b[0;34m,\u001b[0m \u001b[0mSTEP_SIZE\u001b[0m\u001b[0;34m,\u001b[0m \u001b[0mMAX_ITER\u001b[0m\u001b[0;34m)\u001b[0m\u001b[0;34m\u001b[0m\u001b[0m\n\u001b[0m\u001b[1;32m      4\u001b[0m \u001b[0mplot_run\u001b[0m\u001b[0;34m(\u001b[0m\u001b[0mf_vals\u001b[0m\u001b[0;34m,\u001b[0m \u001b[0mSTEP_SIZE\u001b[0m\u001b[0;34m)\u001b[0m\u001b[0;34m\u001b[0m\u001b[0m\n",
      "\u001b[0;32m<ipython-input-6-cdc55435b4a0>\u001b[0m in \u001b[0;36moptimize_theta\u001b[0;34m(theta, step_size, max_iter)\u001b[0m\n\u001b[1;32m     19\u001b[0m     \u001b[0;32mwhile\u001b[0m \u001b[0mi\u001b[0m \u001b[0;34m<\u001b[0m \u001b[0mmax_iter\u001b[0m\u001b[0;34m:\u001b[0m\u001b[0;34m\u001b[0m\u001b[0m\n\u001b[1;32m     20\u001b[0m         \u001b[0mgrad\u001b[0m \u001b[0;34m=\u001b[0m \u001b[0mgrad_of_f\u001b[0m\u001b[0;34m(\u001b[0m\u001b[0mtheta\u001b[0m\u001b[0;34m)\u001b[0m\u001b[0;34m\u001b[0m\u001b[0m\n\u001b[0;32m---> 21\u001b[0;31m         \u001b[0;32mif\u001b[0m \u001b[0;34m(\u001b[0m\u001b[0mnorm\u001b[0m\u001b[0;34m(\u001b[0m\u001b[0mgrad\u001b[0m\u001b[0;34m)\u001b[0m \u001b[0;34m<\u001b[0m \u001b[0;36m1e-8\u001b[0m\u001b[0;34m)\u001b[0m\u001b[0;34m:\u001b[0m \u001b[0;31m# if optimal value reached\u001b[0m\u001b[0;34m\u001b[0m\u001b[0m\n\u001b[0m\u001b[1;32m     22\u001b[0m             \u001b[0;32mbreak\u001b[0m\u001b[0;34m\u001b[0m\u001b[0m\n\u001b[1;32m     23\u001b[0m         \u001b[0mtheta\u001b[0m \u001b[0;34m-=\u001b[0m \u001b[0mstep_size\u001b[0m \u001b[0;34m*\u001b[0m \u001b[0mgrad\u001b[0m \u001b[0;31m# else descend theta\u001b[0m\u001b[0;34m\u001b[0m\u001b[0m\n",
      "\u001b[0;32m<ipython-input-5-2448453ed5eb>\u001b[0m in \u001b[0;36mnorm\u001b[0;34m(v)\u001b[0m\n\u001b[1;32m      2\u001b[0m \u001b[0;34m\u001b[0m\u001b[0m\n\u001b[1;32m      3\u001b[0m \u001b[0;32mdef\u001b[0m \u001b[0mnorm\u001b[0m\u001b[0;34m(\u001b[0m\u001b[0mv\u001b[0m\u001b[0;34m)\u001b[0m\u001b[0;34m:\u001b[0m\u001b[0;34m\u001b[0m\u001b[0m\n\u001b[0;32m----> 4\u001b[0;31m     \u001b[0;32mreturn\u001b[0m \u001b[0msum\u001b[0m\u001b[0;34m(\u001b[0m\u001b[0mnp\u001b[0m\u001b[0;34m.\u001b[0m\u001b[0mdot\u001b[0m\u001b[0;34m(\u001b[0m\u001b[0mv\u001b[0m\u001b[0;34m,\u001b[0m\u001b[0mv\u001b[0m\u001b[0;34m)\u001b[0m\u001b[0;34m)\u001b[0m\u001b[0;34m\u001b[0m\u001b[0m\n\u001b[0m\u001b[1;32m      5\u001b[0m \u001b[0;34m\u001b[0m\u001b[0m\n\u001b[1;32m      6\u001b[0m \u001b[0;34m\u001b[0m\u001b[0m\n",
      "\u001b[0;31mTypeError\u001b[0m: 'numpy.float64' object is not iterable"
     ]
    }
   ],
   "source": [
    "# (ii) run\n",
    "theta = np.zeros(K)\n",
    "f_vals = optimize_theta(theta, STEP_SIZE, MAX_ITER)\n",
    "plot_run(f_vals, STEP_SIZE)"
   ]
  },
  {
   "cell_type": "code",
   "execution_count": null,
   "metadata": {
    "collapsed": true
   },
   "outputs": [],
   "source": [
    "# (iv), (v) function definitions\n",
    "\n",
    "def fast_grad_of_f(theta, sample):\n",
    "    \"\"\"returns approximate fast gradient of f using single sample x\"\"\"\n",
    "    x, label = sample[:-1], sample[-1]\n",
    "    grad = np.zeros(10)\n",
    "    grad[label] += N * sum(x - theta[label]) # scale grad by N\n",
    "    return grad\n",
    "\n",
    "def draw_hist(theta, X_Y):\n",
    "    \"\"\"draws histogram as specified in (v)\"\"\"\n",
    "    fast_grads = [fast_grad_of_f(theta, X_Y[i]) for i in range(N)]\n",
    "    grad = grad_of_f(theta)\n",
    "    \n",
    "    \n",
    "\n",
    "def fast_optimize_theta(theta, step_size, max_iter):\n",
    "    \"\"\"iterative optimization algorithm from 4(iv)\n",
    "    \n",
    "    returns array of function value from iterations\n",
    "    \"\"\"\n",
    "    f_vals = [eval_f(theta)] # starting f value\n",
    "    X_Y = np.concatenate((X, Y), axis=1) # concat for permuting data\n",
    "    i, histogram_step = 0, random.randrange(max_iter) # arbitrary step to draw histogram \n",
    "    \n",
    "    while i < max_iter:\n",
    "        np.random.permutation(X_Y) # permute again if dataset exhausted\n",
    "            \n",
    "        for j in range(N):\n",
    "            # do (v) at arbitrary step\n",
    "            if i == histogram_step:\n",
    "                draw_hist(theta)\n",
    "                \n",
    "            grad = fast_grad_of_f(theta, sample=X_Y[j])\n",
    "            if (norm(grad) < 1e-8): # if optimal value reached\n",
    "                return f_vals\n",
    "            theta -= step_size * grad # else descend theta\n",
    "            f_vals.append(eval_f(theta))\n",
    "            i += 1\n",
    "    \n",
    "    return f_vals"
   ]
  },
  {
   "cell_type": "code",
   "execution_count": null,
   "metadata": {
    "collapsed": true
   },
   "outputs": [],
   "source": [
    "# (v), (vi) run\n",
    "theta = np.zeros(K)\n",
    "fast_f_vals = fast_optimize_theta(theta, STEP_SIZE, MAX_ITER)\n",
    "plot_run(fast_f_vals, STEP_SIZE)"
   ]
  },
  {
   "cell_type": "code",
   "execution_count": null,
   "metadata": {
    "collapsed": true
   },
   "outputs": [],
   "source": []
  },
  {
   "cell_type": "code",
   "execution_count": 12,
   "metadata": {
    "collapsed": true
   },
   "outputs": [],
   "source": [
    "#################### Rui's #######################\n",
    "Matrix = io.loadmat('./hw1data.mat')\n",
    "X_Y = np.concatenate((Matrix['X'],Matrix['Y']),axis=1)\n",
    "# print(X_Y.shape)\n",
    "n = len(X_Y) # 10000\n",
    "d = 784"
   ]
  },
  {
   "cell_type": "code",
   "execution_count": 13,
   "metadata": {
    "collapsed": true
   },
   "outputs": [],
   "source": [
    "count = np.zeros(10)\n",
    "sum_element = np.zeros(10)\n",
    "sum_sq_element = np.zeros(10)\n",
    "# print(count, sum_element, sum_sq_element)\n",
    "\n",
    "for data in X_Y:\n",
    "    # inc count[label]\n",
    "    i = int(data[d])\n",
    "    count[i]+=1 \n",
    "    for j in range(784):\n",
    "        sum_element[i]+=data[j]\n",
    "        sum_sq_element[i]+=data[j]**2"
   ]
  },
  {
   "cell_type": "code",
   "execution_count": 20,
   "metadata": {},
   "outputs": [
    {
     "name": "stdout",
     "output_type": "stream",
     "text": [
      "# Iterations:50000\n",
      "Minimum of f appears at theta=[ 44.27924043  19.75893899  37.44431081  35.87573814  30.72689478\n",
      "  31.51604632  34.50088699  28.97490797  37.49111282  31.21297206]\n",
      "First derivative at minimum point: [-754912.69148861 -209821.75395381 -693803.98572783 -489572.3669293\n",
      " -530145.2850626  -664811.39825932 -534461.03501291 -421343.64695031\n",
      " -646851.45811004 -482076.17523907]\n"
     ]
    },
    {
     "data": {
      "image/png": "[encoded data removed]",
      "text/plain": [
       "<matplotlib.figure.Figure at 0x11b05b898>"
      ]
     },
     "metadata": {},
     "output_type": "display_data"
    }
   ],
   "source": [
    "#print sum_element, count\n",
    "def norm_f(v):\n",
    "    return sum(v*v)\n",
    "def eval_f(theta):\n",
    "    f = 0\n",
    "    f+=sum(sum_sq_element) - 2*sum(sum_element*theta) + 784*sum(count*theta**2)\n",
    "    f = f*0.5\n",
    "    return f\n",
    "theta = np.zeros(10)\n",
    "delta_f = 784*theta*count-sum_element\n",
    "f_values = []\n",
    "iterations=0\n",
    "it_max = 50000\n",
    "while (norm_f(delta_f)>=1e-16) and (iterations<it_max) :\n",
    "        n = 0.0000000001\n",
    "        theta = theta - n*delta_f\n",
    "        delta_f = 784*theta*count-sum_element\n",
    "        f = eval_f(theta)\n",
    "        f_values.append(f)\n",
    "        #print delta_f\n",
    "        iterations+=1\n",
    "\n",
    "print('# Iterations:' + str(iterations))\n",
    "print('Minimum of f appears at theta='+str(theta))\n",
    "print('First derivative at minimum point: '+str(delta_f))\n",
    "plt.plot(range(iterations),f_values,'ro')\n",
    "plt.show()"
   ]
  },
  {
   "cell_type": "code",
   "execution_count": null,
   "metadata": {
    "collapsed": true
   },
   "outputs": [],
   "source": []
  }
 ],
 "metadata": {
  "kernelspec": {
   "display_name": "Python 3",
   "language": "python",
   "name": "python3"
  },
  "language_info": {
   "codemirror_mode": {
    "name": "ipython",
    "version": 3
   },
   "file_extension": ".py",
   "mimetype": "text/x-python",
   "name": "python",
   "nbconvert_exporter": "python",
   "pygments_lexer": "ipython3",
   "version": "3.6.1"
  }
 },
 "nbformat": 4,
 "nbformat_minor": 2
}
